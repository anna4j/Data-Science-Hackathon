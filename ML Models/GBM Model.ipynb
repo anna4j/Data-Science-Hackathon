{
 "cells": [
  {
   "cell_type": "code",
   "execution_count": 260,
   "metadata": {},
   "outputs": [],
   "source": [
    "import pandas as pd\n",
    "import os\n",
    "import numpy as np\n",
    "import matplotlib.pyplot as plt\n",
    "%matplotlib inline\n",
    "from matplotlib.pylab import rcParams\n",
    "\n",
    "\n"
   ]
  },
  {
   "cell_type": "markdown",
   "metadata": {},
   "source": [
    "# Reading data"
   ]
  },
  {
   "cell_type": "code",
   "execution_count": 261,
   "metadata": {},
   "outputs": [],
   "source": [
    "test=pd.read_csv(r\"C:\\Users\\hp\\Desktop\\Data Science\\test_QaJU1Mh.csv\")\n",
    "train=pd.read_csv(r\"C:\\Users\\hp\\Desktop\\Data Science\\train_jRxnrHD.csv\")\n"
   ]
  },
  {
   "cell_type": "markdown",
   "metadata": {},
   "source": [
    "# Filling Missing Values"
   ]
  },
  {
   "cell_type": "code",
   "execution_count": 262,
   "metadata": {},
   "outputs": [],
   "source": [
    "test['application_underwriting_score'].fillna(test['application_underwriting_score'].mean(), inplace=True)\n",
    "test['Count_3-6_months_late'].fillna(0, inplace=True)\n",
    "test['Count_6-12_months_late'].fillna(0, inplace=True)\n",
    "test['Count_more_than_12_months_late'].fillna(0, inplace=True)\n",
    "#test.isnull().sum()"
   ]
  },
  {
   "cell_type": "code",
   "execution_count": 263,
   "metadata": {},
   "outputs": [],
   "source": [
    "train['application_underwriting_score'].fillna(train['application_underwriting_score'].mean(), inplace=True)\n",
    "train['Count_3-6_months_late'].fillna(0, inplace=True)\n",
    "train['Count_6-12_months_late'].fillna(0, inplace=True)\n",
    "train['Count_more_than_12_months_late'].fillna(0, inplace=True)\n",
    "#train.isnull().sum()"
   ]
  },
  {
   "cell_type": "markdown",
   "metadata": {},
   "source": [
    "# Outlier Removal"
   ]
  },
  {
   "cell_type": "code",
   "execution_count": 264,
   "metadata": {},
   "outputs": [],
   "source": [
    "train.loc[train['age_in_days']>34000,'age_in_days']=np.mean(train['age_in_days'])\n",
    "test.loc[test['age_in_days']>34000,'age_in_days']=np.mean(test['age_in_days'])\n",
    "train['no_of_premiums_paid']=np.sqrt(train['no_of_premiums_paid'])\n",
    "test['no_of_premiums_paid']=np.log(test['no_of_premiums_paid'])\n",
    "train['premium']=np.power(train['premium'],1/2)\n",
    "train['Income']=np.log(train['Income'])\n",
    "test['Income']=np.log(test['Income'])\n",
    "train['application_underwriting_score']=np.sqrt(train['application_underwriting_score'])\n",
    "test['application_underwriting_score']=np.sqrt(test['application_underwriting_score'])\n",
    "#test.loc[test['Income']>1,'Income']=np.mean(test['Income'])\n",
    "#train.loc[train['Income']>0.4,'Income']=np.mean(train['Income'])"
   ]
  },
  {
   "cell_type": "markdown",
   "metadata": {},
   "source": [
    "# Linear Regression model"
   ]
  },
  {
   "cell_type": "code",
   "execution_count": 265,
   "metadata": {},
   "outputs": [],
   "source": [
    "#making train data set\n",
    "\n",
    "#train_set=train[0:55899]\n",
    "#making test data set\n",
    "\n",
    "#test_set=train[55900:]\n",
    "\n"
   ]
  },
  {
   "cell_type": "markdown",
   "metadata": {},
   "source": [
    "# Dropping train set data"
   ]
  },
  {
   "cell_type": "code",
   "execution_count": 266,
   "metadata": {},
   "outputs": [],
   "source": [
    "#train_set=train_set.drop('perc_premium_paid_by_cash_credit',axis=1)\n",
    "#train_set=train_set.drop('sourcing_channel',axis=1)\n",
    "#train_set=train_set.drop('target',axis=1)\n",
    "#train_set=train_set.drop('id',axis=1)\n",
    "#train_set=train_set.drop('no_of_premiums_paid',axis=1)\n",
    "#train_set=train_set.drop('Count_3-6_months_late',axis=1)\n",
    "#train_set=train_set.drop('Count_6-12_months_late',axis=1)\n",
    "#train_set=train_set.drop('Count_more_than_12_months_late',axis=1)"
   ]
  },
  {
   "cell_type": "markdown",
   "metadata": {},
   "source": [
    "# Dropping test set data"
   ]
  },
  {
   "cell_type": "code",
   "execution_count": 267,
   "metadata": {},
   "outputs": [],
   "source": [
    "#test_set=test_set.drop('perc_premium_paid_by_cash_credit',axis=1)\n",
    "#test_set=test_set.drop('sourcing_channel',axis=1)\n",
    "#test_set=test_set.drop('target',axis=1)\n",
    "#test_set=test_set.drop('id',axis=1)\n",
    "#test_set=test_set.drop('no_of_premiums_paid',axis=1)\n",
    "#test_set=test_set.drop('Count_3-6_months_late',axis=1)\n",
    "#test_set=test_set.drop('Count_6-12_months_late',axis=1)\n",
    "#test_set=test_set.drop('Count_more_than_12_months_late',axis=1)\n",
    "\n",
    "\n"
   ]
  },
  {
   "cell_type": "code",
   "execution_count": 268,
   "metadata": {},
   "outputs": [],
   "source": [
    "train_set=train.copy()\n",
    "\n",
    "#train_set=train_set.drop('perc_premium_paid_by_cash_credit',axis=1)\n",
    "#train_set=train_set.drop('sourcing_channel',axis=1)\n",
    "train_set=train_set.drop('target',axis=1)\n",
    "train_set=train_set.drop('id',axis=1)\n",
    "#train_set=train_set.drop('no_of_premiums_paid',axis=1)\n",
    "train_set=train_set.drop('Count_3-6_months_late',axis=1)\n",
    "train_set=train_set.drop('Count_6-12_months_late',axis=1)\n",
    "train_set=train_set.drop('Count_more_than_12_months_late',axis=1)\n",
    "\n",
    "\n",
    "\n",
    "train_set=pd.get_dummies(train_set)\n",
    "#test_set=pd.get_dummies(test_set)"
   ]
  },
  {
   "cell_type": "code",
   "execution_count": 269,
   "metadata": {},
   "outputs": [],
   "source": [
    "x1=train_set.drop('premium',axis=1)\n",
    "y1=train_set['premium']\n",
    "#x_test=test_set.drop('premium',axis=1)\n",
    "#y_test=test_set['premium']"
   ]
  },
  {
   "cell_type": "markdown",
   "metadata": {},
   "source": [
    "# GBM model for linear regression"
   ]
  },
  {
   "cell_type": "code",
   "execution_count": 270,
   "metadata": {},
   "outputs": [],
   "source": [
    "from sklearn.model_selection import train_test_split\n",
    "\n",
    "x_train, x_test, y_train, y_test= train_test_split(x1,y1, random_state=42, stratify=y1)"
   ]
  },
  {
   "cell_type": "code",
   "execution_count": 271,
   "metadata": {},
   "outputs": [],
   "source": [
    "#from sklearn.ensemble import GradientBoostingRegressor"
   ]
  },
  {
   "cell_type": "code",
   "execution_count": 272,
   "metadata": {},
   "outputs": [],
   "source": [
    "#clf1 = GradientBoostingRegressor(n_estimators=100, learning_rate=1.0, max_depth=1)\n",
    "#clf1.fit(x_train, y_train)"
   ]
  },
  {
   "cell_type": "code",
   "execution_count": 273,
   "metadata": {},
   "outputs": [],
   "source": [
    "#clf1.score(x_train, y_train)"
   ]
  },
  {
   "cell_type": "code",
   "execution_count": 274,
   "metadata": {},
   "outputs": [],
   "source": [
    "#clf.predict(x_test)\n",
    "#clf.score(x_test, y_test)"
   ]
  },
  {
   "cell_type": "markdown",
   "metadata": {},
   "source": [
    "# Implementing Linear Regression to find premium"
   ]
  },
  {
   "cell_type": "code",
   "execution_count": 275,
   "metadata": {},
   "outputs": [
    {
     "data": {
      "text/plain": [
       "LinearRegression(copy_X=True, fit_intercept=True, n_jobs=None,\n",
       "         normalize=False)"
      ]
     },
     "execution_count": 275,
     "metadata": {},
     "output_type": "execute_result"
    }
   ],
   "source": [
    "from sklearn.linear_model import LinearRegression\n",
    "lreg=LinearRegression()\n",
    "\n",
    "#x_train=pd.get_dummies(x_train)\n",
    "#x_test=pd.get_dummies(x_test)\n",
    "\n",
    "lreg.fit(x_train,y_train)"
   ]
  },
  {
   "cell_type": "code",
   "execution_count": 276,
   "metadata": {},
   "outputs": [],
   "source": [
    "pred=lreg.predict(x_test)"
   ]
  },
  {
   "cell_type": "markdown",
   "metadata": {},
   "source": [
    "# Performance of lreg model"
   ]
  },
  {
   "cell_type": "code",
   "execution_count": 277,
   "metadata": {},
   "outputs": [
    {
     "data": {
      "text/plain": [
       "0.48322054163235295"
      ]
     },
     "execution_count": 277,
     "metadata": {},
     "output_type": "execute_result"
    }
   ],
   "source": [
    "lreg.score(x_test,y_test)"
   ]
  },
  {
   "cell_type": "code",
   "execution_count": 278,
   "metadata": {},
   "outputs": [
    {
     "data": {
      "text/plain": [
       "0.48499256881273883"
      ]
     },
     "execution_count": 278,
     "metadata": {},
     "output_type": "execute_result"
    }
   ],
   "source": [
    "lreg.score(x_train,y_train)"
   ]
  },
  {
   "cell_type": "code",
   "execution_count": 279,
   "metadata": {},
   "outputs": [],
   "source": [
    "rmse_test=np.sqrt(np.mean(np.power((np.array(y_test)-np.array(pred)),2)))\n",
    "rmse_train=np.sqrt(np.mean(np.power((np.array(y_train)-np.array(lreg.predict(x_train))),2)))"
   ]
  },
  {
   "cell_type": "code",
   "execution_count": 280,
   "metadata": {},
   "outputs": [
    {
     "name": "stdout",
     "output_type": "stream",
     "text": [
      "28.70763703936227\n",
      "28.65980641298938\n"
     ]
    }
   ],
   "source": [
    "print(rmse_test)\n",
    "print(rmse_train)"
   ]
  },
  {
   "cell_type": "markdown",
   "metadata": {},
   "source": [
    "# Prediction on actual Test Data"
   ]
  },
  {
   "cell_type": "code",
   "execution_count": 281,
   "metadata": {},
   "outputs": [],
   "source": [
    "\n",
    "test_run=test.copy()\n",
    "#test_run=test_run.drop('perc_premium_paid_by_cash_credit', axis=1)\n",
    "#test_run=test_run.drop('sourcing_channel', axis=1)\n",
    "test_run=test_run.drop('id', axis=1)\n",
    "#test_run=test_run.drop('no_of_premiums_paid',axis=1)\n",
    "test_run=test_run.drop('Count_3-6_months_late',axis=1)\n",
    "test_run=test_run.drop('Count_6-12_months_late',axis=1)\n",
    "test_run=test_run.drop('Count_more_than_12_months_late',axis=1)"
   ]
  },
  {
   "cell_type": "code",
   "execution_count": 282,
   "metadata": {},
   "outputs": [],
   "source": [
    "test_run=pd.get_dummies(test_run)\n",
    "prediction=lreg.predict(test_run)\n",
    "test['premium']=prediction\n",
    "#test['premium'].fillna(test['premium'].mean(), inplace=True)\n",
    "test['premium']=np.power(test['premium'],1/3)"
   ]
  },
  {
   "cell_type": "markdown",
   "metadata": {},
   "source": [
    "# Implementing Decision Trees"
   ]
  },
  {
   "cell_type": "code",
   "execution_count": 283,
   "metadata": {},
   "outputs": [],
   "source": [
    "train1=train.copy()\n",
    "train1=train1.drop('id',axis=1)\n",
    "train1=train1.drop('sourcing_channel',axis=1)\n",
    "train1=train1.drop('residence_area_type',axis=1)\n",
    "#train1=train1.drop('premium',axis=1)\n",
    "#train1=train1.drop('Income',axis=1)\n",
    "#train1=train1.drop('age_in_days',axis=1)\n",
    "train1=train1.drop('application_underwriting_score',axis=1)\n",
    "train1=train1.drop('no_of_premiums_paid',axis=1)\n",
    "\n",
    "train1=pd.get_dummies(train1)"
   ]
  },
  {
   "cell_type": "code",
   "execution_count": 284,
   "metadata": {},
   "outputs": [],
   "source": [
    "x=train1.drop(['target'], axis=1)\n",
    "y=train1['target']"
   ]
  },
  {
   "cell_type": "code",
   "execution_count": 285,
   "metadata": {},
   "outputs": [],
   "source": [
    "from sklearn.model_selection import train_test_split"
   ]
  },
  {
   "cell_type": "code",
   "execution_count": 286,
   "metadata": {},
   "outputs": [],
   "source": [
    "train_x, test_x, train_y, test_y= train_test_split(x, y, random_state=42, stratify=y)\n",
    "#x,y, random_state=42, stratify=y"
   ]
  },
  {
   "cell_type": "code",
   "execution_count": 287,
   "metadata": {},
   "outputs": [],
   "source": [
    "#train_y.value_counts()/len(train_y)"
   ]
  },
  {
   "cell_type": "code",
   "execution_count": 288,
   "metadata": {},
   "outputs": [],
   "source": [
    "#test_y.value_counts()/len(test_y)"
   ]
  },
  {
   "cell_type": "code",
   "execution_count": 289,
   "metadata": {},
   "outputs": [],
   "source": [
    "#importing decision tree classifier\n",
    "#from sklearn.tree import DecisionTreeClassifier"
   ]
  },
  {
   "cell_type": "code",
   "execution_count": 290,
   "metadata": {},
   "outputs": [],
   "source": [
    "#clf= DecisionTreeClassifier()\n",
    "\n"
   ]
  },
  {
   "cell_type": "code",
   "execution_count": 291,
   "metadata": {},
   "outputs": [],
   "source": [
    "#clf.fit(train_x,train_y)"
   ]
  },
  {
   "cell_type": "code",
   "execution_count": 292,
   "metadata": {},
   "outputs": [],
   "source": [
    "#clf.score(train_x, train_y)"
   ]
  },
  {
   "cell_type": "code",
   "execution_count": 293,
   "metadata": {},
   "outputs": [],
   "source": [
    "#clf.predict(test_x)"
   ]
  },
  {
   "cell_type": "code",
   "execution_count": 294,
   "metadata": {},
   "outputs": [],
   "source": [
    "#clf.score(test_x, test_y)"
   ]
  },
  {
   "cell_type": "markdown",
   "metadata": {},
   "source": [
    "# GBM Model"
   ]
  },
  {
   "cell_type": "code",
   "execution_count": 295,
   "metadata": {},
   "outputs": [],
   "source": [
    "from sklearn.ensemble import GradientBoostingClassifier \n",
    "from sklearn import metrics\n",
    "from sklearn.model_selection import cross_validate\n",
    "from sklearn.metrics import roc_auc_score\n",
    "from sklearn.metrics import classification_report\n",
    "from sklearn.model_selection import learning_curve, GridSearchCV"
   ]
  },
  {
   "cell_type": "code",
   "execution_count": 296,
   "metadata": {},
   "outputs": [],
   "source": [
    "clf = GradientBoostingClassifier(n_estimators=100, learning_rate=0.1, max_depth=1)"
   ]
  },
  {
   "cell_type": "code",
   "execution_count": 297,
   "metadata": {},
   "outputs": [
    {
     "data": {
      "text/plain": [
       "GradientBoostingClassifier(criterion='friedman_mse', init=None,\n",
       "              learning_rate=0.1, loss='deviance', max_depth=1,\n",
       "              max_features=None, max_leaf_nodes=None,\n",
       "              min_impurity_decrease=0.0, min_impurity_split=None,\n",
       "              min_samples_leaf=1, min_samples_split=2,\n",
       "              min_weight_fraction_leaf=0.0, n_estimators=100,\n",
       "              n_iter_no_change=None, presort='auto', random_state=None,\n",
       "              subsample=1.0, tol=0.0001, validation_fraction=0.1,\n",
       "              verbose=0, warm_start=False)"
      ]
     },
     "execution_count": 297,
     "metadata": {},
     "output_type": "execute_result"
    }
   ],
   "source": [
    "clf.fit(train_x, train_y)"
   ]
  },
  {
   "cell_type": "code",
   "execution_count": 298,
   "metadata": {},
   "outputs": [
    {
     "data": {
      "text/plain": [
       "0.9394212626692715"
      ]
     },
     "execution_count": 298,
     "metadata": {},
     "output_type": "execute_result"
    }
   ],
   "source": [
    "clf.score(train_x, train_y)"
   ]
  },
  {
   "cell_type": "code",
   "execution_count": 299,
   "metadata": {},
   "outputs": [
    {
     "data": {
      "text/plain": [
       "0.9387898216790223"
      ]
     },
     "execution_count": 299,
     "metadata": {},
     "output_type": "execute_result"
    }
   ],
   "source": [
    "y_pred=clf.predict(test_x)\n",
    "clf.score(test_x, test_y)"
   ]
  },
  {
   "cell_type": "code",
   "execution_count": null,
   "metadata": {},
   "outputs": [],
   "source": []
  },
  {
   "cell_type": "code",
   "execution_count": null,
   "metadata": {},
   "outputs": [],
   "source": []
  },
  {
   "cell_type": "markdown",
   "metadata": {},
   "source": [
    "# Performing on actual data"
   ]
  },
  {
   "cell_type": "code",
   "execution_count": 300,
   "metadata": {},
   "outputs": [],
   "source": [
    "test1=test.copy()\n",
    "test1=test1.drop('id',axis=1)\n",
    "test1=test1.drop('sourcing_channel',axis=1)\n",
    "test1=test1.drop('application_underwriting_score',axis=1)\n",
    "test1=test1.drop('residence_area_type',axis=1)\n",
    "#test1=test1.drop('premium',axis=1)\n",
    "#test1=test1.drop('Income',axis=1)\n",
    "#test1=test1.drop('age_in_days',axis=1)\n",
    "test1=test1.drop('no_of_premiums_paid',axis=1)\n",
    "\n",
    "\n",
    "\n",
    "\n",
    "\n",
    "\n",
    "\n",
    "\n",
    "test1=pd.get_dummies(test1)"
   ]
  },
  {
   "cell_type": "code",
   "execution_count": 301,
   "metadata": {},
   "outputs": [],
   "source": [
    "pred=clf.predict(test1)"
   ]
  },
  {
   "cell_type": "code",
   "execution_count": 302,
   "metadata": {},
   "outputs": [],
   "source": [
    "sub1=pd.read_csv(r\"C:\\Users\\hp\\Desktop\\Data Science\\my_subs_dt.csv\")\n",
    "sub1=sub1.drop('target', axis=1)\n",
    "sub1['target']=pred\n",
    "df = pd.DataFrame(sub1) \n",
    "\n",
    "# saving the dataframe \n",
    "df.to_csv(r'C:\\Users\\hp\\Desktop\\Data Science\\my_subs_dt.csv', index=False) \n",
    "\n",
    "\n"
   ]
  },
  {
   "cell_type": "code",
   "execution_count": null,
   "metadata": {},
   "outputs": [],
   "source": []
  }
 ],
 "metadata": {
  "kernelspec": {
   "display_name": "Python 3",
   "language": "python",
   "name": "python3"
  },
  "language_info": {
   "codemirror_mode": {
    "name": "ipython",
    "version": 3
   },
   "file_extension": ".py",
   "mimetype": "text/x-python",
   "name": "python",
   "nbconvert_exporter": "python",
   "pygments_lexer": "ipython3",
   "version": "3.7.3"
  }
 },
 "nbformat": 4,
 "nbformat_minor": 2
}
